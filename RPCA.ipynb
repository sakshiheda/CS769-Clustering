{
 "cells": [
  {
   "cell_type": "code",
   "execution_count": 2,
   "metadata": {},
   "outputs": [],
   "source": [
    "from __future__ import division, print_function\n",
    "\n",
    "import numpy as np\n",
    "from scipy.sparse import random\n",
    "from scipy import stats\n",
    "from numpy.random import default_rng\n",
    "from pylab import plt"
   ]
  },
  {
   "cell_type": "code",
   "execution_count": 3,
   "metadata": {},
   "outputs": [],
   "source": [
    "def J(Y, lamb):\n",
    "    return max(np.linalg.norm(Y, ord=2), np.linalg.norm(Y, np.inf)/lamb)"
   ]
  },
  {
   "cell_type": "code",
   "execution_count": 184,
   "metadata": {},
   "outputs": [],
   "source": [
    "class R_pca:\n",
    "\n",
    "    def __init__(self, D, Y, mu=None, lmbda=None, rho=None):\n",
    "        self.D = D\n",
    "        self.E = np.zeros(self.D.shape)\n",
    "        # self.Y = np.zeros(self.D.shape)\n",
    "        self.Y = Y\n",
    "        self.rho = rho\n",
    "\n",
    "        if mu:\n",
    "            self.mu = mu\n",
    "        else:\n",
    "            self.mu = np.prod(self.D.shape) / (4 * self.norm_p(self.D, 2))  \n",
    "\n",
    "        self.mu_inv = 1 / self.mu\n",
    "\n",
    "        if lmbda:\n",
    "            self.lmbda = lmbda\n",
    "        else:\n",
    "            self.lmbda = 1 / np.sqrt(32*np.max(self.D.shape))\n",
    "\n",
    "    @staticmethod\n",
    "    def norm_p(M, p):\n",
    "        return np.sum(np.power(M, p))\n",
    "\n",
    "    @staticmethod\n",
    "    def shrink(M, tau):\n",
    "        return np.sign(M) * np.maximum((np.abs(M) - tau), np.zeros(M.shape))\n",
    "\n",
    "    def svd_threshold(self, M, tau):\n",
    "        U, S, V = np.linalg.svd(M, full_matrices=False)\n",
    "        return np.dot(U, np.dot(np.diag(self.shrink(S, tau)), V))\n",
    "\n",
    "    def fit(self, tol=None, max_iter=1000, iter_print=100):\n",
    "        iter = 0\n",
    "        err = np.Inf\n",
    "        Ek = self.E\n",
    "        Yk = self.Y\n",
    "        Ak = np.zeros(self.D.shape)\n",
    "\n",
    "        if tol:\n",
    "            _tol = tol\n",
    "        else:\n",
    "            _tol = 1E-7 * self.norm_p(np.abs(self.D), 2)\n",
    "\n",
    "        while (err > _tol) and iter < max_iter:\n",
    "            Ak = self.svd_threshold(self.D - Ek + self.mu_inv * Yk, self.mu_inv)\n",
    "            Ek = self.shrink(self.D - Ak + (self.mu_inv * Yk), self.mu_inv * self.lmbda)\n",
    "            Yk = Yk + self.mu * (self.D - Ak - Ek)\n",
    "            err = self.norm_p(np.abs(self.D - Ak - Ek), 2)\n",
    "            self.mu *= self.rho\n",
    "            iter += 1\n",
    "\n",
    "        np.fill_diagonal(Ak, 1)\n",
    "        np.fill_diagonal(Ek, 0)\n",
    "\n",
    "        self.A = Ak\n",
    "        self.E = Ek\n",
    "        return Ak, Ek"
   ]
  },
  {
   "cell_type": "code",
   "execution_count": 255,
   "metadata": {},
   "outputs": [],
   "source": [
    "def InexactALM(D, lamb, mu, rho):\n",
    "    Y0 = D/J(D, lamb)\n",
    "    # Y0 = np.zeros(D.shape)\n",
    "    rpca = R_pca(D, Y0, mu, lamb, rho)\n",
    "    A, E = rpca.fit()\n",
    "    return (A, E)"
   ]
  },
  {
   "cell_type": "code",
   "execution_count": 268,
   "metadata": {},
   "outputs": [],
   "source": [
    "def Clustering(D):\n",
    "    n = len(D)\n",
    "    A = np.zeros(D.shape)\n",
    "    lamb = 1/(32*np.sqrt(n))\n",
    "    i = 0\n",
    "    while(i < 10):\n",
    "        A, E = InexactALM(D+np.identity(n), lamb, mu=1.4, rho=1.1)\n",
    "        if(A.trace() > n):\n",
    "            lamb /= 2\n",
    "            # print(\"0\")\n",
    "        elif(A.trace() < n):\n",
    "            lamb *= 1\n",
    "            # print(\"1\")\n",
    "        else:\n",
    "            pass\n",
    "        i += 1\n",
    "    A = np.around(A)\n",
    "    E = np.around(E)\n",
    "    A = A.astype(int)\n",
    "    E = E.astype(int)\n",
    "    print(A)\n",
    "    print(E)\n",
    "    print(\"Rank of A:\", np.linalg.matrix_rank(A))\n",
    "    print(\"Rank of E: \", np.linalg.matrix_rank(E))"
   ]
  },
  {
   "cell_type": "code",
   "execution_count": 275,
   "metadata": {},
   "outputs": [
    {
     "name": "stdout",
     "output_type": "stream",
     "text": [
      "[[0 1 0 1 1 0]\n",
      " [1 0 1 0 0 0]\n",
      " [0 1 0 1 0 1]\n",
      " [1 0 1 0 0 1]\n",
      " [1 0 0 0 0 1]\n",
      " [0 0 1 1 1 0]]\n",
      "6\n",
      "[[1 0 0 0 0 0]\n",
      " [0 1 0 0 0 0]\n",
      " [0 0 1 1 0 1]\n",
      " [0 0 1 1 0 1]\n",
      " [0 0 0 0 1 0]\n",
      " [0 0 1 1 0 1]]\n",
      "[[0 1 0 1 1 0]\n",
      " [1 0 1 0 0 0]\n",
      " [0 1 0 0 0 0]\n",
      " [1 0 0 0 0 0]\n",
      " [1 0 0 0 0 1]\n",
      " [0 0 0 0 1 0]]\n",
      "Rank of A: 4\n",
      "Rank of E:  6\n"
     ]
    }
   ],
   "source": [
    "if __name__==\"__main__\":\n",
    "    n = 6\n",
    "    p = 0.8\n",
    "    A1 = np.random.binomial(n=1, p=p, size=(n,n))\n",
    "    A = (A1 + A1.T)/2\n",
    "    A = np.around(A)\n",
    "    A = A.astype(int)\n",
    "    np.fill_diagonal(A, 0)\n",
    "    print(A)\n",
    "    print(np.linalg.matrix_rank(A))\n",
    "    Clustering(A)"
   ]
  },
  {
   "cell_type": "code",
   "execution_count": 276,
   "metadata": {},
   "outputs": [],
   "source": [
    "def is_block_diagonal(matrix):\n",
    "    n = len(matrix)\n",
    "    block_size = None\n",
    "    col_starts = []\n",
    "    for i in range(n):\n",
    "        if block_size is None:\n",
    "            block_size = len(matrix[i])\n",
    "        elif len(matrix[i]) != block_size:\n",
    "            return False\n",
    "        col_starts.append(i*block_size)\n",
    "    for i in range(n):\n",
    "        start = col_starts[i]\n",
    "        end = start + block_size\n",
    "        for j in range(start, end):\n",
    "            if matrix[i][j-start] != 0 and any(matrix[k][j-start] != 0 for k in range(n) if k != i):\n",
    "                return False\n",
    "    return True\n"
   ]
  },
  {
   "cell_type": "code",
   "execution_count": 281,
   "metadata": {},
   "outputs": [
    {
     "name": "stdout",
     "output_type": "stream",
     "text": [
      "[[1, 1, 0, 0], [1, 1, 0, 0], [0, 0, 1, 1], [0, 0, 1, 1]]\n",
      "False\n"
     ]
    }
   ],
   "source": [
    "p = 0.8\n",
    "A1 = np.random.binomial(n=1, p=p, size=(n,n))\n",
    "A = (A1 + A1.T)/2\n",
    "A = np.around(A)\n",
    "A = A.astype(int)\n",
    "np.fill_diagonal(A, 0)\n",
    "A = [[1, 1, 0, 0], [1, 1, 0, 0], [0, 0, 1, 1], [0, 0, 1, 1]]\n",
    "print(A)\n",
    "print(is_block_diagonal(A))"
   ]
  }
 ],
 "metadata": {
  "kernelspec": {
   "display_name": "Python 3",
   "language": "python",
   "name": "python3"
  },
  "language_info": {
   "codemirror_mode": {
    "name": "ipython",
    "version": 3
   },
   "file_extension": ".py",
   "mimetype": "text/x-python",
   "name": "python",
   "nbconvert_exporter": "python",
   "pygments_lexer": "ipython3",
   "version": "3.10.5"
  },
  "orig_nbformat": 4
 },
 "nbformat": 4,
 "nbformat_minor": 2
}
