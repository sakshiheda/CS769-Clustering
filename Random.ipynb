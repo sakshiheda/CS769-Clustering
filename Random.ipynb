{
 "cells": [
  {
   "cell_type": "code",
   "execution_count": 2,
   "metadata": {},
   "outputs": [],
   "source": [
    "import numpy as np\n",
    "import scipy"
   ]
  },
  {
   "cell_type": "code",
   "execution_count": 3,
   "metadata": {},
   "outputs": [
    {
     "name": "stdout",
     "output_type": "stream",
     "text": [
      "[[0 1 0 1]\n",
      " [1 0 1 0]\n",
      " [0 0 0 0]\n",
      " [0 0 0 0]]\n",
      "[[0 0 0 0]\n",
      " [0 0 0 0]\n",
      " [0 1 0 1]\n",
      " [1 0 1 0]]\n"
     ]
    }
   ],
   "source": [
    "import numpy as np\n",
    "\n",
    "# Example binary matrix\n",
    "A = np.array([[0, 1, 0, 1],\n",
    "              [1, 0, 1, 0],\n",
    "              [0, 1, 0, 1],\n",
    "              [1, 0, 1, 0]])\n",
    "\n",
    "# Initialize the two binary matrices\n",
    "B = np.zeros_like(A)\n",
    "C = np.zeros_like(A)\n",
    "\n",
    "# Iterate over the rows and columns of A\n",
    "for i in range(A.shape[0]):\n",
    "    for j in range(A.shape[1]):\n",
    "        # If A[i,j] is 1, try adding it to B first\n",
    "        if A[i,j] == 1 and np.sum(B[:,j]) < np.sum(A[:,j])/2:\n",
    "            B[i,j] = 1\n",
    "        # If adding to B would make the column sums exceed half of the total,\n",
    "        # add it to C instead\n",
    "        elif A[i,j] == 1:\n",
    "            C[i,j] = 1\n",
    "\n",
    "# Verify that A = B + C\n",
    "# assert np.all(A == B + C)\n",
    "\n",
    "print(B)\n",
    "print(C)\n",
    "\n"
   ]
  },
  {
   "cell_type": "code",
   "execution_count": 4,
   "metadata": {},
   "outputs": [
    {
     "name": "stdout",
     "output_type": "stream",
     "text": [
      "[[0 1 0 1]\n",
      " [0 0 0 0]\n",
      " [0 0 0 0]\n",
      " [0 0 0 0]]\n",
      "[[0 0 0 0]\n",
      " [1 0 1 0]\n",
      " [0 0 0 0]\n",
      " [0 0 0 0]]\n"
     ]
    }
   ],
   "source": [
    "import numpy as np\n",
    "\n",
    "# Example binary matrix\n",
    "A = np.array([[0, 1, 0, 1],\n",
    "              [1, 0, 1, 0],\n",
    "              [0, 1, 0, 1],\n",
    "              [1, 0, 1, 0]])\n",
    "\n",
    "# Compute the column sums of A\n",
    "col_sums = np.sum(A, axis=0)\n",
    "\n",
    "# Initialize the two binary matrices\n",
    "B = np.zeros_like(A)\n",
    "C = np.zeros_like(A)\n",
    "\n",
    "# Iterate over the columns of A\n",
    "for j in range(A.shape[1]):\n",
    "    # Add the first ceil(col_sum/2) entries to B\n",
    "    col_sum = col_sums[j]\n",
    "    half_sum = int(np.ceil(col_sum / 2))\n",
    "    B[:half_sum, j] = A[:half_sum, j]\n",
    "    # Add the remaining entries to C\n",
    "    C[half_sum:col_sum, j] = A[half_sum:col_sum, j]\n",
    "\n",
    "# Verify that A = B + C\n",
    "# assert np.all(A == B + C)\n",
    "print(B)\n",
    "print(C)"
   ]
  },
  {
   "attachments": {},
   "cell_type": "markdown",
   "metadata": {},
   "source": [
    "Generating sparse  matrices\n",
    "https://docs.scipy.org/doc/scipy/reference/generated/scipy.sparse.random.html"
   ]
  },
  {
   "cell_type": "code",
   "execution_count": 5,
   "metadata": {},
   "outputs": [],
   "source": [
    "from scipy.sparse import random\n",
    "from scipy import stats\n",
    "from numpy.random import default_rng"
   ]
  },
  {
   "cell_type": "code",
   "execution_count": 15,
   "metadata": {},
   "outputs": [
    {
     "name": "stdout",
     "output_type": "stream",
     "text": [
      "(4, 4)\n",
      "[[0.         0.47879003 0.         0.        ]\n",
      " [0.         0.         0.         0.        ]\n",
      " [0.         0.96766427 0.         0.        ]\n",
      " [0.         0.         0.         0.        ]]\n"
     ]
    }
   ],
   "source": [
    "A = random(4, 4, 0.1)\n",
    "print(A.shape)\n",
    "print(A.A)"
   ]
  },
  {
   "attachments": {},
   "cell_type": "markdown",
   "metadata": {},
   "source": [
    "Here, density = m^2/n^2"
   ]
  },
  {
   "cell_type": "code",
   "execution_count": null,
   "metadata": {},
   "outputs": [],
   "source": []
  }
 ],
 "metadata": {
  "kernelspec": {
   "display_name": "Python 3",
   "language": "python",
   "name": "python3"
  },
  "language_info": {
   "codemirror_mode": {
    "name": "ipython",
    "version": 3
   },
   "file_extension": ".py",
   "mimetype": "text/x-python",
   "name": "python",
   "nbconvert_exporter": "python",
   "pygments_lexer": "ipython3",
   "version": "3.10.5"
  },
  "orig_nbformat": 4,
  "vscode": {
   "interpreter": {
    "hash": "b391e30338597a82e75bec97af1c333c6f7450c1c30a079ac81c80bd19bf1984"
   }
  }
 },
 "nbformat": 4,
 "nbformat_minor": 2
}
