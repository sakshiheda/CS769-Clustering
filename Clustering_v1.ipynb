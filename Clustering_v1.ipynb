{
 "cells": [
  {
   "cell_type": "code",
   "execution_count": 12,
   "metadata": {},
   "outputs": [],
   "source": [
    "import numpy as np\n",
    "import scipy\n",
    "import math\n",
    "from scipy.optimize import minimize"
   ]
  },
  {
   "cell_type": "code",
   "execution_count": 7,
   "metadata": {},
   "outputs": [],
   "source": [
    "n = 4\n",
    "lamb = 1/(32*math.sqrt(n))"
   ]
  },
  {
   "cell_type": "code",
   "execution_count": 11,
   "metadata": {},
   "outputs": [
    {
     "name": "stdout",
     "output_type": "stream",
     "text": [
      "[[0 0 1 1]\n",
      " [1 0 0 1]\n",
      " [1 1 0 0]\n",
      " [0 1 1 0]]\n"
     ]
    }
   ],
   "source": [
    "A = np.random.randint(2, size=(n,n))\n",
    "print(A)"
   ]
  },
  {
   "cell_type": "code",
   "execution_count": 13,
   "metadata": {},
   "outputs": [],
   "source": [
    "def nuclear_norm(A):\n",
    "    s = np.linalg.svd(A, compute_uv=False)\n",
    "    nuclear_norm = np.sum(s)\n",
    "    return nuclear_norm"
   ]
  },
  {
   "cell_type": "code",
   "execution_count": 14,
   "metadata": {},
   "outputs": [],
   "source": [
    "def L1norm(A):\n",
    "    s = np.sum(np.abs(A))\n",
    "    return s"
   ]
  },
  {
   "cell_type": "code",
   "execution_count": 15,
   "metadata": {},
   "outputs": [],
   "source": [
    "def objective(B, K):\n",
    "    return lamb*L1norm(B) + nuclear_norm(K)"
   ]
  },
  {
   "cell_type": "code",
   "execution_count": 16,
   "metadata": {},
   "outputs": [],
   "source": [
    "def constraint(A, B, K):\n",
    "    diff = B + K -A - np.identity(n)\n",
    "    return L1norm(diff)"
   ]
  },
  {
   "cell_type": "code",
   "execution_count": null,
   "metadata": {},
   "outputs": [],
   "source": [
    "def optCluster(A):\n",
    "    while(1):\n",
    "        bounds = "
   ]
  },
  {
   "cell_type": "code",
   "execution_count": null,
   "metadata": {},
   "outputs": [],
   "source": [
    "# Define the initial guess\n",
    "x0 = np.array([1, 2, 3, 4, 5, 6, 7, 8])\n",
    "\n",
    "# Define the constant value\n",
    "C = 10\n",
    "\n",
    "# Define the bounds on x\n",
    "bounds = ((0, 10), ) * 8\n",
    "\n",
    "# Define the constraint dictionary\n",
    "con = {'type': 'eq', 'fun': constraint, 'args': (C, )}\n",
    "\n",
    "# Use the minimize function to find the minimum\n",
    "res = minimize(objective, x0, method='SLSQP', bounds=bounds, constraints=con)\n",
    "\n",
    "# Print the results\n",
    "print(\"Minimum value:\", res.fun)\n",
    "print(\"Minimizing x values:\", res.x)\n"
   ]
  }
 ],
 "metadata": {
  "kernelspec": {
   "display_name": "Python 3",
   "language": "python",
   "name": "python3"
  },
  "language_info": {
   "codemirror_mode": {
    "name": "ipython",
    "version": 3
   },
   "file_extension": ".py",
   "mimetype": "text/x-python",
   "name": "python",
   "nbconvert_exporter": "python",
   "pygments_lexer": "ipython3",
   "version": "3.10.5"
  },
  "orig_nbformat": 4
 },
 "nbformat": 4,
 "nbformat_minor": 2
}
